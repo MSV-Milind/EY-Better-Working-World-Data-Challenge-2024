{
 "cells": [
  {
   "cell_type": "code",
   "execution_count": 89,
   "metadata": {},
   "outputs": [],
   "source": [
    "import pandas as pd\n",
    "import numpy as np\n",
    "\n",
    "import seaborn as sns\n",
    "import matplotlib.pyplot as plt\n",
    "\n",
    "from sklearn.svm import SVC\n",
    "import matplotlib.pyplot as plt\n",
    "from sklearn.model_selection import train_test_split, cross_validate\n",
    "from sklearn.metrics import accuracy_score, f1_score\n",
    "\n",
    "from sklearn.linear_model import LogisticRegression"
   ]
  },
  {
   "cell_type": "code",
   "execution_count": 48,
   "metadata": {},
   "outputs": [
    {
     "data": {
      "text/plain": [
       "<matplotlib.collections.PathCollection at 0x13f34328210>"
      ]
     },
     "execution_count": 48,
     "metadata": {},
     "output_type": "execute_result"
    },
    {
     "data": {
      "image/png": "[encoded data removed]",
      "text/plain": [
       "<Figure size 640x480 with 1 Axes>"
      ]
     },
     "metadata": {},
     "output_type": "display_data"
    }
   ],
   "source": [
    "a = np.array([[np.cos(i) + 0.5 * np.random.randn(), np.sin(i) + 0.5 * np.random.randn(), 1] for i in range(100)])\n",
    "b = np.array([[2 * np.cos(i) + 0.5 * np.random.randn(), 2 * np.sin(i) + 0.5 * np.random.randn(), 0] for i in range(200, 300)])\n",
    "plt.scatter(a[:, 0], a[:, 1], marker='.')\n",
    "plt.scatter(b[:, 0], b[:, 1], marker='^')"
   ]
  },
  {
   "cell_type": "code",
   "execution_count": 49,
   "metadata": {},
   "outputs": [],
   "source": [
    "data = pd.DataFrame(np.concatenate([a, b], axis=0))"
   ]
  },
  {
   "cell_type": "code",
   "execution_count": 50,
   "metadata": {},
   "outputs": [
    {
     "name": "stdout",
     "output_type": "stream",
     "text": [
      "0.8\n",
      "0.8214285714285714\n"
     ]
    }
   ],
   "source": [
    "X_train, X_test, y_train, y_test = train_test_split(data.iloc[:, :2], data.iloc[:, 2], shuffle=True)\n",
    "model = SVC(kernel='poly', degree=2)\n",
    "model.fit(X_train, y_train)\n",
    "y_pred = model.predict(X_test)\n",
    "print(accuracy_score(y_pred=y_pred, y_true=y_test))\n",
    "print(f1_score(y_pred=y_pred, y_true=y_test))"
   ]
  },
  {
   "cell_type": "code",
   "execution_count": 51,
   "metadata": {},
   "outputs": [
    {
     "data": {
      "text/html": [
       "<div>\n",
       "<style scoped>\n",
       "    .dataframe tbody tr th:only-of-type {\n",
       "        vertical-align: middle;\n",
       "    }\n",
       "\n",
       "    .dataframe tbody tr th {\n",
       "        vertical-align: top;\n",
       "    }\n",
       "\n",
       "    .dataframe thead th {\n",
       "        text-align: right;\n",
       "    }\n",
       "</style>\n",
       "<table border=\"1\" class=\"dataframe\">\n",
       "  <thead>\n",
       "    <tr style=\"text-align: right;\">\n",
       "      <th></th>\n",
       "      <th>0</th>\n",
       "      <th>1</th>\n",
       "    </tr>\n",
       "  </thead>\n",
       "  <tbody>\n",
       "    <tr>\n",
       "      <th>195</th>\n",
       "      <td>1.962229</td>\n",
       "      <td>-0.393718</td>\n",
       "    </tr>\n",
       "    <tr>\n",
       "      <th>65</th>\n",
       "      <td>-0.284515</td>\n",
       "      <td>0.552790</td>\n",
       "    </tr>\n",
       "    <tr>\n",
       "      <th>53</th>\n",
       "      <td>-1.664351</td>\n",
       "      <td>0.465416</td>\n",
       "    </tr>\n",
       "    <tr>\n",
       "      <th>96</th>\n",
       "      <td>0.293380</td>\n",
       "      <td>0.602995</td>\n",
       "    </tr>\n",
       "    <tr>\n",
       "      <th>50</th>\n",
       "      <td>0.521190</td>\n",
       "      <td>-0.643730</td>\n",
       "    </tr>\n",
       "    <tr>\n",
       "      <th>...</th>\n",
       "      <td>...</td>\n",
       "      <td>...</td>\n",
       "    </tr>\n",
       "    <tr>\n",
       "      <th>182</th>\n",
       "      <td>1.535438</td>\n",
       "      <td>-1.578467</td>\n",
       "    </tr>\n",
       "    <tr>\n",
       "      <th>141</th>\n",
       "      <td>-0.837827</td>\n",
       "      <td>1.872731</td>\n",
       "    </tr>\n",
       "    <tr>\n",
       "      <th>183</th>\n",
       "      <td>1.475936</td>\n",
       "      <td>0.176106</td>\n",
       "    </tr>\n",
       "    <tr>\n",
       "      <th>193</th>\n",
       "      <td>-0.919472</td>\n",
       "      <td>-1.781962</td>\n",
       "    </tr>\n",
       "    <tr>\n",
       "      <th>100</th>\n",
       "      <td>-0.284152</td>\n",
       "      <td>-2.576385</td>\n",
       "    </tr>\n",
       "  </tbody>\n",
       "</table>\n",
       "<p>150 rows × 2 columns</p>\n",
       "</div>"
      ],
      "text/plain": [
       "            0         1\n",
       "195  1.962229 -0.393718\n",
       "65  -0.284515  0.552790\n",
       "53  -1.664351  0.465416\n",
       "96   0.293380  0.602995\n",
       "50   0.521190 -0.643730\n",
       "..        ...       ...\n",
       "182  1.535438 -1.578467\n",
       "141 -0.837827  1.872731\n",
       "183  1.475936  0.176106\n",
       "193 -0.919472 -1.781962\n",
       "100 -0.284152 -2.576385\n",
       "\n",
       "[150 rows x 2 columns]"
      ]
     },
     "execution_count": 51,
     "metadata": {},
     "output_type": "execute_result"
    }
   ],
   "source": [
    "X_train"
   ]
  },
  {
   "cell_type": "code",
   "execution_count": 52,
   "metadata": {},
   "outputs": [
    {
     "data": {
      "text/plain": [
       "<matplotlib.collections.PathCollection at 0x13f34382850>"
      ]
     },
     "execution_count": 52,
     "metadata": {},
     "output_type": "execute_result"
    },
    {
     "data": {
      "image/png": "[encoded data removed]",
      "text/plain": [
       "<Figure size 640x480 with 1 Axes>"
      ]
     },
     "metadata": {},
     "output_type": "display_data"
    }
   ],
   "source": [
    "plt.scatter(X_train.iloc[:, 0], X_train.iloc[:, 1])"
   ]
  },
  {
   "cell_type": "code",
   "execution_count": 101,
   "metadata": {},
   "outputs": [
    {
     "data": {
      "text/html": [
       "<div>\n",
       "<style scoped>\n",
       "    .dataframe tbody tr th:only-of-type {\n",
       "        vertical-align: middle;\n",
       "    }\n",
       "\n",
       "    .dataframe tbody tr th {\n",
       "        vertical-align: top;\n",
       "    }\n",
       "\n",
       "    .dataframe thead th {\n",
       "        text-align: right;\n",
       "    }\n",
       "</style>\n",
       "<table border=\"1\" class=\"dataframe\">\n",
       "  <thead>\n",
       "    <tr style=\"text-align: right;\">\n",
       "      <th></th>\n",
       "      <th>0</th>\n",
       "    </tr>\n",
       "  </thead>\n",
       "  <tbody>\n",
       "    <tr>\n",
       "      <th>0</th>\n",
       "      <td>54</td>\n",
       "    </tr>\n",
       "    <tr>\n",
       "      <th>1</th>\n",
       "      <td>17</td>\n",
       "    </tr>\n",
       "    <tr>\n",
       "      <th>2</th>\n",
       "      <td>34</td>\n",
       "    </tr>\n",
       "    <tr>\n",
       "      <th>3</th>\n",
       "      <td>72</td>\n",
       "    </tr>\n",
       "    <tr>\n",
       "      <th>4</th>\n",
       "      <td>71</td>\n",
       "    </tr>\n",
       "    <tr>\n",
       "      <th>...</th>\n",
       "      <td>...</td>\n",
       "    </tr>\n",
       "    <tr>\n",
       "      <th>195</th>\n",
       "      <td>25</td>\n",
       "    </tr>\n",
       "    <tr>\n",
       "      <th>196</th>\n",
       "      <td>45</td>\n",
       "    </tr>\n",
       "    <tr>\n",
       "      <th>197</th>\n",
       "      <td>48</td>\n",
       "    </tr>\n",
       "    <tr>\n",
       "      <th>198</th>\n",
       "      <td>99</td>\n",
       "    </tr>\n",
       "    <tr>\n",
       "      <th>199</th>\n",
       "      <td>19</td>\n",
       "    </tr>\n",
       "  </tbody>\n",
       "</table>\n",
       "<p>200 rows × 1 columns</p>\n",
       "</div>"
      ],
      "text/plain": [
       "      0\n",
       "0    54\n",
       "1    17\n",
       "2    34\n",
       "3    72\n",
       "4    71\n",
       "..   ..\n",
       "195  25\n",
       "196  45\n",
       "197  48\n",
       "198  99\n",
       "199  19\n",
       "\n",
       "[200 rows x 1 columns]"
      ]
     },
     "execution_count": 101,
     "metadata": {},
     "output_type": "execute_result"
    }
   ],
   "source": [
    "data = pd.DataFrame(np.random.randint(1, 101, size=(200,)))\n",
    "data"
   ]
  },
  {
   "cell_type": "code",
   "execution_count": 118,
   "metadata": {},
   "outputs": [
    {
     "data": {
      "text/html": [
       "<div>\n",
       "<style scoped>\n",
       "    .dataframe tbody tr th:only-of-type {\n",
       "        vertical-align: middle;\n",
       "    }\n",
       "\n",
       "    .dataframe tbody tr th {\n",
       "        vertical-align: top;\n",
       "    }\n",
       "\n",
       "    .dataframe thead th {\n",
       "        text-align: right;\n",
       "    }\n",
       "</style>\n",
       "<table border=\"1\" class=\"dataframe\">\n",
       "  <thead>\n",
       "    <tr style=\"text-align: right;\">\n",
       "      <th></th>\n",
       "      <th>0</th>\n",
       "      <th>1</th>\n",
       "    </tr>\n",
       "  </thead>\n",
       "  <tbody>\n",
       "    <tr>\n",
       "      <th>0</th>\n",
       "      <td>54</td>\n",
       "      <td>118.253964</td>\n",
       "    </tr>\n",
       "    <tr>\n",
       "      <th>1</th>\n",
       "      <td>17</td>\n",
       "      <td>118.789730</td>\n",
       "    </tr>\n",
       "    <tr>\n",
       "      <th>2</th>\n",
       "      <td>34</td>\n",
       "      <td>125.475097</td>\n",
       "    </tr>\n",
       "    <tr>\n",
       "      <th>3</th>\n",
       "      <td>72</td>\n",
       "      <td>108.240473</td>\n",
       "    </tr>\n",
       "    <tr>\n",
       "      <th>4</th>\n",
       "      <td>71</td>\n",
       "      <td>108.899036</td>\n",
       "    </tr>\n",
       "    <tr>\n",
       "      <th>...</th>\n",
       "      <td>...</td>\n",
       "      <td>...</td>\n",
       "    </tr>\n",
       "    <tr>\n",
       "      <th>195</th>\n",
       "      <td>25</td>\n",
       "      <td>127.573508</td>\n",
       "    </tr>\n",
       "    <tr>\n",
       "      <th>196</th>\n",
       "      <td>45</td>\n",
       "      <td>121.963109</td>\n",
       "    </tr>\n",
       "    <tr>\n",
       "      <th>197</th>\n",
       "      <td>48</td>\n",
       "      <td>109.981817</td>\n",
       "    </tr>\n",
       "    <tr>\n",
       "      <th>198</th>\n",
       "      <td>99</td>\n",
       "      <td>84.255564</td>\n",
       "    </tr>\n",
       "    <tr>\n",
       "      <th>199</th>\n",
       "      <td>19</td>\n",
       "      <td>128.604043</td>\n",
       "    </tr>\n",
       "  </tbody>\n",
       "</table>\n",
       "<p>200 rows × 2 columns</p>\n",
       "</div>"
      ],
      "text/plain": [
       "      0           1\n",
       "0    54  118.253964\n",
       "1    17  118.789730\n",
       "2    34  125.475097\n",
       "3    72  108.240473\n",
       "4    71  108.899036\n",
       "..   ..         ...\n",
       "195  25  127.573508\n",
       "196  45  121.963109\n",
       "197  48  109.981817\n",
       "198  99   84.255564\n",
       "199  19  128.604043\n",
       "\n",
       "[200 rows x 2 columns]"
      ]
     },
     "execution_count": 118,
     "metadata": {},
     "output_type": "execute_result"
    }
   ],
   "source": [
    "data[1] = 0.0\n",
    "indices = np.random.permutation(200)\n",
    "res = 130**2\n",
    "data.iloc[indices[:100], 1] = (130**2 - data.iloc[indices[:100], 0]**2)**0.5 \n",
    "data.iloc[indices[100:], 1] = (120**2 - data.iloc[indices[100:], 0]**2)**0.5\n",
    "data"
   ]
  },
  {
   "cell_type": "code",
   "execution_count": 119,
   "metadata": {},
   "outputs": [
    {
     "data": {
      "text/plain": [
       "<matplotlib.collections.PathCollection at 0x13f36f9a290>"
      ]
     },
     "execution_count": 119,
     "metadata": {},
     "output_type": "execute_result"
    },
    {
     "data": {
      "image/png": "[encoded data removed]",
      "text/plain": [
       "<Figure size 640x480 with 1 Axes>"
      ]
     },
     "metadata": {},
     "output_type": "display_data"
    }
   ],
   "source": [
    "plt.scatter(data.iloc[:, 0], data.iloc[:, 1])"
   ]
  },
  {
   "cell_type": "code",
   "execution_count": 120,
   "metadata": {},
   "outputs": [
    {
     "data": {
      "text/plain": [
       "0      1\n",
       "1      0\n",
       "2      1\n",
       "3      1\n",
       "4      1\n",
       "      ..\n",
       "195    1\n",
       "196    1\n",
       "197    0\n",
       "198    1\n",
       "199    1\n",
       "Length: 200, dtype: int64"
      ]
     },
     "execution_count": 120,
     "metadata": {},
     "output_type": "execute_result"
    }
   ],
   "source": [
    "y = pd.Series([0] * 200)\n",
    "y[indices[:100]] = 1\n",
    "y"
   ]
  },
  {
   "cell_type": "code",
   "execution_count": 121,
   "metadata": {},
   "outputs": [
    {
     "data": {
      "text/html": [
       "<div>\n",
       "<style scoped>\n",
       "    .dataframe tbody tr th:only-of-type {\n",
       "        vertical-align: middle;\n",
       "    }\n",
       "\n",
       "    .dataframe tbody tr th {\n",
       "        vertical-align: top;\n",
       "    }\n",
       "\n",
       "    .dataframe thead th {\n",
       "        text-align: right;\n",
       "    }\n",
       "</style>\n",
       "<table border=\"1\" class=\"dataframe\">\n",
       "  <thead>\n",
       "    <tr style=\"text-align: right;\">\n",
       "      <th></th>\n",
       "      <th>0</th>\n",
       "      <th>1</th>\n",
       "    </tr>\n",
       "  </thead>\n",
       "  <tbody>\n",
       "  </tbody>\n",
       "</table>\n",
       "</div>"
      ],
      "text/plain": [
       "Empty DataFrame\n",
       "Columns: [0, 1]\n",
       "Index: []"
      ]
     },
     "execution_count": 121,
     "metadata": {},
     "output_type": "execute_result"
    }
   ],
   "source": [
    "data[data[1] == np.inf]"
   ]
  },
  {
   "cell_type": "code",
   "execution_count": 123,
   "metadata": {},
   "outputs": [
    {
     "name": "stdout",
     "output_type": "stream",
     "text": [
      "1.0\n",
      "1.0\n"
     ]
    }
   ],
   "source": [
    "X_train, X_test, y_train, y_test = train_test_split(data, y, shuffle=True)\n",
    "model = SVC(kernel='poly', degree=2)\n",
    "model.fit(X_train, y_train)\n",
    "y_pred = model.predict(X_test)\n",
    "print(accuracy_score(y_pred=y_pred, y_true=y_test))\n",
    "print(f1_score(y_pred=y_pred, y_true=y_test))"
   ]
  },
  {
   "cell_type": "code",
   "execution_count": 17,
   "metadata": {},
   "outputs": [
    {
     "data": {
      "text/html": [
       "<div>\n",
       "<style scoped>\n",
       "    .dataframe tbody tr th:only-of-type {\n",
       "        vertical-align: middle;\n",
       "    }\n",
       "\n",
       "    .dataframe tbody tr th {\n",
       "        vertical-align: top;\n",
       "    }\n",
       "\n",
       "    .dataframe thead th {\n",
       "        text-align: right;\n",
       "    }\n",
       "</style>\n",
       "<table border=\"1\" class=\"dataframe\">\n",
       "  <thead>\n",
       "    <tr style=\"text-align: right;\">\n",
       "      <th></th>\n",
       "      <th>0</th>\n",
       "      <th>1</th>\n",
       "    </tr>\n",
       "  </thead>\n",
       "  <tbody>\n",
       "    <tr>\n",
       "      <th>0</th>\n",
       "      <td>17.191258</td>\n",
       "      <td>0.0</td>\n",
       "    </tr>\n",
       "    <tr>\n",
       "      <th>1</th>\n",
       "      <td>75.272423</td>\n",
       "      <td>0.0</td>\n",
       "    </tr>\n",
       "    <tr>\n",
       "      <th>2</th>\n",
       "      <td>89.202627</td>\n",
       "      <td>0.0</td>\n",
       "    </tr>\n",
       "    <tr>\n",
       "      <th>3</th>\n",
       "      <td>-54.105433</td>\n",
       "      <td>0.0</td>\n",
       "    </tr>\n",
       "    <tr>\n",
       "      <th>4</th>\n",
       "      <td>53.217608</td>\n",
       "      <td>0.0</td>\n",
       "    </tr>\n",
       "    <tr>\n",
       "      <th>...</th>\n",
       "      <td>...</td>\n",
       "      <td>...</td>\n",
       "    </tr>\n",
       "    <tr>\n",
       "      <th>195</th>\n",
       "      <td>3.022175</td>\n",
       "      <td>0.0</td>\n",
       "    </tr>\n",
       "    <tr>\n",
       "      <th>196</th>\n",
       "      <td>-82.620644</td>\n",
       "      <td>0.0</td>\n",
       "    </tr>\n",
       "    <tr>\n",
       "      <th>197</th>\n",
       "      <td>80.477182</td>\n",
       "      <td>0.0</td>\n",
       "    </tr>\n",
       "    <tr>\n",
       "      <th>198</th>\n",
       "      <td>36.124580</td>\n",
       "      <td>0.0</td>\n",
       "    </tr>\n",
       "    <tr>\n",
       "      <th>199</th>\n",
       "      <td>52.482443</td>\n",
       "      <td>0.0</td>\n",
       "    </tr>\n",
       "  </tbody>\n",
       "</table>\n",
       "<p>200 rows × 2 columns</p>\n",
       "</div>"
      ],
      "text/plain": [
       "             0    1\n",
       "0    17.191258  0.0\n",
       "1    75.272423  0.0\n",
       "2    89.202627  0.0\n",
       "3   -54.105433  0.0\n",
       "4    53.217608  0.0\n",
       "..         ...  ...\n",
       "195   3.022175  0.0\n",
       "196 -82.620644  0.0\n",
       "197  80.477182  0.0\n",
       "198  36.124580  0.0\n",
       "199  52.482443  0.0\n",
       "\n",
       "[200 rows x 2 columns]"
      ]
     },
     "execution_count": 17,
     "metadata": {},
     "output_type": "execute_result"
    }
   ],
   "source": [
    "data = pd.DataFrame(np.random.uniform(-100, 100, size=200))\n",
    "data[1] = 0.0\n",
    "data"
   ]
  },
  {
   "cell_type": "code",
   "execution_count": 18,
   "metadata": {},
   "outputs": [],
   "source": [
    "indices = np.random.permutation(200)\n",
    "ind1 = indices[:100]\n",
    "ind2 = indices[100:]"
   ]
  },
  {
   "cell_type": "code",
   "execution_count": 31,
   "metadata": {},
   "outputs": [
    {
     "data": {
      "text/html": [
       "<div>\n",
       "<style scoped>\n",
       "    .dataframe tbody tr th:only-of-type {\n",
       "        vertical-align: middle;\n",
       "    }\n",
       "\n",
       "    .dataframe tbody tr th {\n",
       "        vertical-align: top;\n",
       "    }\n",
       "\n",
       "    .dataframe thead th {\n",
       "        text-align: right;\n",
       "    }\n",
       "</style>\n",
       "<table border=\"1\" class=\"dataframe\">\n",
       "  <thead>\n",
       "    <tr style=\"text-align: right;\">\n",
       "      <th></th>\n",
       "      <th>0</th>\n",
       "      <th>1</th>\n",
       "      <th>2</th>\n",
       "    </tr>\n",
       "  </thead>\n",
       "  <tbody>\n",
       "    <tr>\n",
       "      <th>0</th>\n",
       "      <td>17.191258</td>\n",
       "      <td>-6.095629</td>\n",
       "      <td>1</td>\n",
       "    </tr>\n",
       "    <tr>\n",
       "      <th>1</th>\n",
       "      <td>75.272423</td>\n",
       "      <td>-35.136212</td>\n",
       "      <td>1</td>\n",
       "    </tr>\n",
       "    <tr>\n",
       "      <th>2</th>\n",
       "      <td>89.202627</td>\n",
       "      <td>-42.101314</td>\n",
       "      <td>1</td>\n",
       "    </tr>\n",
       "    <tr>\n",
       "      <th>3</th>\n",
       "      <td>-54.105433</td>\n",
       "      <td>29.552716</td>\n",
       "      <td>1</td>\n",
       "    </tr>\n",
       "    <tr>\n",
       "      <th>4</th>\n",
       "      <td>53.217608</td>\n",
       "      <td>-33.478405</td>\n",
       "      <td>0</td>\n",
       "    </tr>\n",
       "    <tr>\n",
       "      <th>...</th>\n",
       "      <td>...</td>\n",
       "      <td>...</td>\n",
       "      <td>...</td>\n",
       "    </tr>\n",
       "    <tr>\n",
       "      <th>195</th>\n",
       "      <td>3.022175</td>\n",
       "      <td>0.988912</td>\n",
       "      <td>1</td>\n",
       "    </tr>\n",
       "    <tr>\n",
       "      <th>196</th>\n",
       "      <td>-82.620644</td>\n",
       "      <td>43.810322</td>\n",
       "      <td>1</td>\n",
       "    </tr>\n",
       "    <tr>\n",
       "      <th>197</th>\n",
       "      <td>80.477182</td>\n",
       "      <td>-37.738591</td>\n",
       "      <td>1</td>\n",
       "    </tr>\n",
       "    <tr>\n",
       "      <th>198</th>\n",
       "      <td>36.124580</td>\n",
       "      <td>-22.083054</td>\n",
       "      <td>0</td>\n",
       "    </tr>\n",
       "    <tr>\n",
       "      <th>199</th>\n",
       "      <td>52.482443</td>\n",
       "      <td>-32.988296</td>\n",
       "      <td>0</td>\n",
       "    </tr>\n",
       "  </tbody>\n",
       "</table>\n",
       "<p>200 rows × 3 columns</p>\n",
       "</div>"
      ],
      "text/plain": [
       "             0          1  2\n",
       "0    17.191258  -6.095629  1\n",
       "1    75.272423 -35.136212  1\n",
       "2    89.202627 -42.101314  1\n",
       "3   -54.105433  29.552716  1\n",
       "4    53.217608 -33.478405  0\n",
       "..         ...        ... ..\n",
       "195   3.022175   0.988912  1\n",
       "196 -82.620644  43.810322  1\n",
       "197  80.477182 -37.738591  1\n",
       "198  36.124580 -22.083054  0\n",
       "199  52.482443 -32.988296  0\n",
       "\n",
       "[200 rows x 3 columns]"
      ]
     },
     "execution_count": 31,
     "metadata": {},
     "output_type": "execute_result"
    }
   ],
   "source": [
    "#x + 2y = 5\n",
    "#2x - 3y = 6\n",
    "#x is given\n",
    "\n",
    "data.iloc[ind1, 1] = (5 - data.iloc[ind1, 0]) / 2\n",
    "data.iloc[ind2, 1] =  (6 - 2 * data.iloc[ind2, 0]) / 3\n",
    "data"
   ]
  },
  {
   "cell_type": "code",
   "execution_count": 32,
   "metadata": {},
   "outputs": [
    {
     "data": {
      "text/html": [
       "<div>\n",
       "<style scoped>\n",
       "    .dataframe tbody tr th:only-of-type {\n",
       "        vertical-align: middle;\n",
       "    }\n",
       "\n",
       "    .dataframe tbody tr th {\n",
       "        vertical-align: top;\n",
       "    }\n",
       "\n",
       "    .dataframe thead th {\n",
       "        text-align: right;\n",
       "    }\n",
       "</style>\n",
       "<table border=\"1\" class=\"dataframe\">\n",
       "  <thead>\n",
       "    <tr style=\"text-align: right;\">\n",
       "      <th></th>\n",
       "      <th>0</th>\n",
       "      <th>1</th>\n",
       "      <th>2</th>\n",
       "    </tr>\n",
       "  </thead>\n",
       "  <tbody>\n",
       "    <tr>\n",
       "      <th>0</th>\n",
       "      <td>17.191258</td>\n",
       "      <td>-6.095629</td>\n",
       "      <td>1</td>\n",
       "    </tr>\n",
       "    <tr>\n",
       "      <th>1</th>\n",
       "      <td>75.272423</td>\n",
       "      <td>-35.136212</td>\n",
       "      <td>1</td>\n",
       "    </tr>\n",
       "    <tr>\n",
       "      <th>2</th>\n",
       "      <td>89.202627</td>\n",
       "      <td>-42.101314</td>\n",
       "      <td>1</td>\n",
       "    </tr>\n",
       "    <tr>\n",
       "      <th>3</th>\n",
       "      <td>-54.105433</td>\n",
       "      <td>29.552716</td>\n",
       "      <td>1</td>\n",
       "    </tr>\n",
       "    <tr>\n",
       "      <th>4</th>\n",
       "      <td>53.217608</td>\n",
       "      <td>-33.478405</td>\n",
       "      <td>0</td>\n",
       "    </tr>\n",
       "    <tr>\n",
       "      <th>...</th>\n",
       "      <td>...</td>\n",
       "      <td>...</td>\n",
       "      <td>...</td>\n",
       "    </tr>\n",
       "    <tr>\n",
       "      <th>195</th>\n",
       "      <td>3.022175</td>\n",
       "      <td>0.988912</td>\n",
       "      <td>1</td>\n",
       "    </tr>\n",
       "    <tr>\n",
       "      <th>196</th>\n",
       "      <td>-82.620644</td>\n",
       "      <td>43.810322</td>\n",
       "      <td>1</td>\n",
       "    </tr>\n",
       "    <tr>\n",
       "      <th>197</th>\n",
       "      <td>80.477182</td>\n",
       "      <td>-37.738591</td>\n",
       "      <td>1</td>\n",
       "    </tr>\n",
       "    <tr>\n",
       "      <th>198</th>\n",
       "      <td>36.124580</td>\n",
       "      <td>-22.083054</td>\n",
       "      <td>0</td>\n",
       "    </tr>\n",
       "    <tr>\n",
       "      <th>199</th>\n",
       "      <td>52.482443</td>\n",
       "      <td>-32.988296</td>\n",
       "      <td>0</td>\n",
       "    </tr>\n",
       "  </tbody>\n",
       "</table>\n",
       "<p>200 rows × 3 columns</p>\n",
       "</div>"
      ],
      "text/plain": [
       "             0          1  2\n",
       "0    17.191258  -6.095629  1\n",
       "1    75.272423 -35.136212  1\n",
       "2    89.202627 -42.101314  1\n",
       "3   -54.105433  29.552716  1\n",
       "4    53.217608 -33.478405  0\n",
       "..         ...        ... ..\n",
       "195   3.022175   0.988912  1\n",
       "196 -82.620644  43.810322  1\n",
       "197  80.477182 -37.738591  1\n",
       "198  36.124580 -22.083054  0\n",
       "199  52.482443 -32.988296  0\n",
       "\n",
       "[200 rows x 3 columns]"
      ]
     },
     "execution_count": 32,
     "metadata": {},
     "output_type": "execute_result"
    }
   ],
   "source": [
    "data[2] = 0\n",
    "data.iloc[ind1, 2] = 1\n",
    "data"
   ]
  },
  {
   "cell_type": "code",
   "execution_count": 33,
   "metadata": {},
   "outputs": [
    {
     "data": {
      "text/plain": [
       "<matplotlib.collections.PathCollection at 0x1e607853d50>"
      ]
     },
     "execution_count": 33,
     "metadata": {},
     "output_type": "execute_result"
    },
    {
     "data": {
      "image/png": "[encoded data removed]",
      "text/plain": [
       "<Figure size 640x480 with 1 Axes>"
      ]
     },
     "metadata": {},
     "output_type": "display_data"
    }
   ],
   "source": [
    "plt.scatter(data.iloc[ind1, 0], data.iloc[ind1, 1], marker='.')\n",
    "plt.scatter(data.iloc[ind2, 0], data.iloc[ind2, 1], marker='^')"
   ]
  },
  {
   "cell_type": "code",
   "execution_count": 39,
   "metadata": {},
   "outputs": [
    {
     "name": "stdout",
     "output_type": "stream",
     "text": [
      "0.76\n",
      "0.8125\n"
     ]
    }
   ],
   "source": [
    "X_train, X_test, y_train, y_test = train_test_split(data.iloc[:, :2], data.iloc[:, 2], shuffle=True)\n",
    "model = SVC(kernel='poly', degree=2)\n",
    "model.fit(X_train, y_train)\n",
    "y_pred = model.predict(X_test)\n",
    "print(accuracy_score(y_pred=y_pred, y_true=y_test))\n",
    "print(f1_score(y_pred=y_pred, y_true=y_test))"
   ]
  },
  {
   "cell_type": "code",
   "execution_count": 13,
   "metadata": {},
   "outputs": [],
   "source": [
    "import pandas as pd\n",
    "import numpy as np"
   ]
  },
  {
   "cell_type": "code",
   "execution_count": 3,
   "metadata": {},
   "outputs": [
    {
     "data": {
      "text/html": [
       "<div>\n",
       "<style scoped>\n",
       "    .dataframe tbody tr th:only-of-type {\n",
       "        vertical-align: middle;\n",
       "    }\n",
       "\n",
       "    .dataframe tbody tr th {\n",
       "        vertical-align: top;\n",
       "    }\n",
       "\n",
       "    .dataframe thead th {\n",
       "        text-align: right;\n",
       "    }\n",
       "</style>\n",
       "<table border=\"1\" class=\"dataframe\">\n",
       "  <thead>\n",
       "    <tr style=\"text-align: right;\">\n",
       "      <th></th>\n",
       "      <th>gbifID</th>\n",
       "      <th>eventDate</th>\n",
       "      <th>country</th>\n",
       "      <th>continent</th>\n",
       "      <th>stateProvince</th>\n",
       "      <th>decimalLatitude</th>\n",
       "      <th>decimalLongitude</th>\n",
       "      <th>species</th>\n",
       "      <th>occurrenceStatus</th>\n",
       "      <th>key</th>\n",
       "      <th>...</th>\n",
       "      <th>pet_mean</th>\n",
       "      <th>ppt_mean</th>\n",
       "      <th>soil_mean</th>\n",
       "      <th>srad_mean</th>\n",
       "      <th>swe_mean</th>\n",
       "      <th>tmax_mean</th>\n",
       "      <th>tmin_mean</th>\n",
       "      <th>vap_mean</th>\n",
       "      <th>vpd_mean</th>\n",
       "      <th>ws_mean</th>\n",
       "    </tr>\n",
       "  </thead>\n",
       "  <tbody>\n",
       "    <tr>\n",
       "      <th>0</th>\n",
       "      <td>3108953447</td>\n",
       "      <td>2018-10-06 00:00:00</td>\n",
       "      <td>Australia</td>\n",
       "      <td>Australia</td>\n",
       "      <td>New South Wales</td>\n",
       "      <td>-32.136533</td>\n",
       "      <td>152.345153</td>\n",
       "      <td>Crinia Signifera</td>\n",
       "      <td>0</td>\n",
       "      <td>0</td>\n",
       "      <td>...</td>\n",
       "      <td>122.515002</td>\n",
       "      <td>78.956667</td>\n",
       "      <td>86.060001</td>\n",
       "      <td>202.539550</td>\n",
       "      <td>0.0</td>\n",
       "      <td>24.752166</td>\n",
       "      <td>13.260166</td>\n",
       "      <td>1.469033</td>\n",
       "      <td>0.768167</td>\n",
       "      <td>3.858167</td>\n",
       "    </tr>\n",
       "    <tr>\n",
       "      <th>1</th>\n",
       "      <td>2805655442</td>\n",
       "      <td>2018-09-18 00:00:00</td>\n",
       "      <td>Australia</td>\n",
       "      <td>Australia</td>\n",
       "      <td>New South Wales</td>\n",
       "      <td>-33.376231</td>\n",
       "      <td>150.185438</td>\n",
       "      <td>Crinia Signifera</td>\n",
       "      <td>0</td>\n",
       "      <td>1</td>\n",
       "      <td>...</td>\n",
       "      <td>94.620002</td>\n",
       "      <td>70.815000</td>\n",
       "      <td>61.070002</td>\n",
       "      <td>197.531135</td>\n",
       "      <td>0.0</td>\n",
       "      <td>17.464500</td>\n",
       "      <td>6.493000</td>\n",
       "      <td>0.971417</td>\n",
       "      <td>0.505833</td>\n",
       "      <td>3.512667</td>\n",
       "    </tr>\n",
       "    <tr>\n",
       "      <th>2</th>\n",
       "      <td>3108887504</td>\n",
       "      <td>2018-09-06 00:00:00</td>\n",
       "      <td>Australia</td>\n",
       "      <td>Australia</td>\n",
       "      <td>New South Wales</td>\n",
       "      <td>-34.496490</td>\n",
       "      <td>150.762660</td>\n",
       "      <td>Crinia Signifera</td>\n",
       "      <td>0</td>\n",
       "      <td>2</td>\n",
       "      <td>...</td>\n",
       "      <td>116.523334</td>\n",
       "      <td>88.481667</td>\n",
       "      <td>93.835002</td>\n",
       "      <td>194.666467</td>\n",
       "      <td>0.0</td>\n",
       "      <td>23.087500</td>\n",
       "      <td>12.855000</td>\n",
       "      <td>1.373983</td>\n",
       "      <td>0.705000</td>\n",
       "      <td>4.115000</td>\n",
       "    </tr>\n",
       "    <tr>\n",
       "      <th>3</th>\n",
       "      <td>3108851861</td>\n",
       "      <td>2019-08-29 00:00:00</td>\n",
       "      <td>Australia</td>\n",
       "      <td>Australia</td>\n",
       "      <td>New South Wales</td>\n",
       "      <td>-34.466653</td>\n",
       "      <td>150.010261</td>\n",
       "      <td>Crinia Signifera</td>\n",
       "      <td>0</td>\n",
       "      <td>3</td>\n",
       "      <td>...</td>\n",
       "      <td>105.906668</td>\n",
       "      <td>51.491667</td>\n",
       "      <td>38.143334</td>\n",
       "      <td>197.398818</td>\n",
       "      <td>0.0</td>\n",
       "      <td>21.126666</td>\n",
       "      <td>8.092833</td>\n",
       "      <td>1.056167</td>\n",
       "      <td>0.707500</td>\n",
       "      <td>2.945333</td>\n",
       "    </tr>\n",
       "    <tr>\n",
       "      <th>4</th>\n",
       "      <td>3463682945</td>\n",
       "      <td>2019-10-07 00:00:00</td>\n",
       "      <td>Australia</td>\n",
       "      <td>Australia</td>\n",
       "      <td>Western Australia</td>\n",
       "      <td>-31.935800</td>\n",
       "      <td>115.886000</td>\n",
       "      <td>Crinia Glauerti</td>\n",
       "      <td>0</td>\n",
       "      <td>4</td>\n",
       "      <td>...</td>\n",
       "      <td>140.043336</td>\n",
       "      <td>52.176667</td>\n",
       "      <td>58.045001</td>\n",
       "      <td>232.393621</td>\n",
       "      <td>0.0</td>\n",
       "      <td>24.345166</td>\n",
       "      <td>13.365333</td>\n",
       "      <td>1.352933</td>\n",
       "      <td>1.016000</td>\n",
       "      <td>4.695167</td>\n",
       "    </tr>\n",
       "    <tr>\n",
       "      <th>...</th>\n",
       "      <td>...</td>\n",
       "      <td>...</td>\n",
       "      <td>...</td>\n",
       "      <td>...</td>\n",
       "      <td>...</td>\n",
       "      <td>...</td>\n",
       "      <td>...</td>\n",
       "      <td>...</td>\n",
       "      <td>...</td>\n",
       "      <td>...</td>\n",
       "      <td>...</td>\n",
       "      <td>...</td>\n",
       "      <td>...</td>\n",
       "      <td>...</td>\n",
       "      <td>...</td>\n",
       "      <td>...</td>\n",
       "      <td>...</td>\n",
       "      <td>...</td>\n",
       "      <td>...</td>\n",
       "      <td>...</td>\n",
       "      <td>...</td>\n",
       "    </tr>\n",
       "    <tr>\n",
       "      <th>37181</th>\n",
       "      <td>1457334961</td>\n",
       "      <td>2017-01-23 00:00:00</td>\n",
       "      <td>Australia</td>\n",
       "      <td>Australia</td>\n",
       "      <td>New South Wales</td>\n",
       "      <td>-34.924979</td>\n",
       "      <td>150.647032</td>\n",
       "      <td>Litoria Fallax</td>\n",
       "      <td>1</td>\n",
       "      <td>37397</td>\n",
       "      <td>...</td>\n",
       "      <td>113.420002</td>\n",
       "      <td>88.605000</td>\n",
       "      <td>128.325001</td>\n",
       "      <td>194.388579</td>\n",
       "      <td>0.0</td>\n",
       "      <td>22.368500</td>\n",
       "      <td>13.190500</td>\n",
       "      <td>1.369700</td>\n",
       "      <td>0.659000</td>\n",
       "      <td>4.104167</td>\n",
       "    </tr>\n",
       "    <tr>\n",
       "      <th>37182</th>\n",
       "      <td>3108865868</td>\n",
       "      <td>2019-02-03 00:00:00</td>\n",
       "      <td>Australia</td>\n",
       "      <td>Australia</td>\n",
       "      <td>New South Wales</td>\n",
       "      <td>-34.028797</td>\n",
       "      <td>151.225626</td>\n",
       "      <td>Litoria Fallax</td>\n",
       "      <td>1</td>\n",
       "      <td>37398</td>\n",
       "      <td>...</td>\n",
       "      <td>117.751669</td>\n",
       "      <td>89.018333</td>\n",
       "      <td>81.860001</td>\n",
       "      <td>195.746791</td>\n",
       "      <td>0.0</td>\n",
       "      <td>23.062499</td>\n",
       "      <td>13.867833</td>\n",
       "      <td>1.440283</td>\n",
       "      <td>0.688333</td>\n",
       "      <td>4.484833</td>\n",
       "    </tr>\n",
       "    <tr>\n",
       "      <th>37183</th>\n",
       "      <td>3408189344</td>\n",
       "      <td>2019-12-24 21:22:00</td>\n",
       "      <td>Australia</td>\n",
       "      <td>Australia</td>\n",
       "      <td>Queensland</td>\n",
       "      <td>-26.754987</td>\n",
       "      <td>152.839291</td>\n",
       "      <td>Litoria Fallax</td>\n",
       "      <td>1</td>\n",
       "      <td>37399</td>\n",
       "      <td>...</td>\n",
       "      <td>117.921669</td>\n",
       "      <td>113.293333</td>\n",
       "      <td>141.200001</td>\n",
       "      <td>210.919648</td>\n",
       "      <td>0.0</td>\n",
       "      <td>24.605499</td>\n",
       "      <td>13.768000</td>\n",
       "      <td>1.564200</td>\n",
       "      <td>0.750500</td>\n",
       "      <td>3.474000</td>\n",
       "    </tr>\n",
       "    <tr>\n",
       "      <th>37184</th>\n",
       "      <td>2981077059</td>\n",
       "      <td>2018-11-22 03:59:00</td>\n",
       "      <td>Australia</td>\n",
       "      <td>Australia</td>\n",
       "      <td>New South Wales</td>\n",
       "      <td>-34.791600</td>\n",
       "      <td>150.779300</td>\n",
       "      <td>Litoria Fallax</td>\n",
       "      <td>1</td>\n",
       "      <td>37400</td>\n",
       "      <td>...</td>\n",
       "      <td>115.260002</td>\n",
       "      <td>93.385000</td>\n",
       "      <td>117.718335</td>\n",
       "      <td>194.086769</td>\n",
       "      <td>0.0</td>\n",
       "      <td>22.557833</td>\n",
       "      <td>13.278000</td>\n",
       "      <td>1.377050</td>\n",
       "      <td>0.667167</td>\n",
       "      <td>4.263833</td>\n",
       "    </tr>\n",
       "    <tr>\n",
       "      <th>37185</th>\n",
       "      <td>2573827842</td>\n",
       "      <td>2019-04-22 18:11:00</td>\n",
       "      <td>Australia</td>\n",
       "      <td>Australia</td>\n",
       "      <td>Queensland</td>\n",
       "      <td>-27.497691</td>\n",
       "      <td>153.018211</td>\n",
       "      <td>Litoria Fallax</td>\n",
       "      <td>1</td>\n",
       "      <td>37401</td>\n",
       "      <td>...</td>\n",
       "      <td>130.216670</td>\n",
       "      <td>87.456667</td>\n",
       "      <td>73.656668</td>\n",
       "      <td>207.235200</td>\n",
       "      <td>0.0</td>\n",
       "      <td>26.560499</td>\n",
       "      <td>15.482166</td>\n",
       "      <td>1.681233</td>\n",
       "      <td>0.920333</td>\n",
       "      <td>3.936500</td>\n",
       "    </tr>\n",
       "  </tbody>\n",
       "</table>\n",
       "<p>37186 rows × 23 columns</p>\n",
       "</div>"
      ],
      "text/plain": [
       "           gbifID            eventDate    country  continent  \\\n",
       "0      3108953447  2018-10-06 00:00:00  Australia  Australia   \n",
       "1      2805655442  2018-09-18 00:00:00  Australia  Australia   \n",
       "2      3108887504  2018-09-06 00:00:00  Australia  Australia   \n",
       "3      3108851861  2019-08-29 00:00:00  Australia  Australia   \n",
       "4      3463682945  2019-10-07 00:00:00  Australia  Australia   \n",
       "...           ...                  ...        ...        ...   \n",
       "37181  1457334961  2017-01-23 00:00:00  Australia  Australia   \n",
       "37182  3108865868  2019-02-03 00:00:00  Australia  Australia   \n",
       "37183  3408189344  2019-12-24 21:22:00  Australia  Australia   \n",
       "37184  2981077059  2018-11-22 03:59:00  Australia  Australia   \n",
       "37185  2573827842  2019-04-22 18:11:00  Australia  Australia   \n",
       "\n",
       "           stateProvince  decimalLatitude  decimalLongitude           species  \\\n",
       "0        New South Wales       -32.136533        152.345153  Crinia Signifera   \n",
       "1        New South Wales       -33.376231        150.185438  Crinia Signifera   \n",
       "2        New South Wales       -34.496490        150.762660  Crinia Signifera   \n",
       "3        New South Wales       -34.466653        150.010261  Crinia Signifera   \n",
       "4      Western Australia       -31.935800        115.886000   Crinia Glauerti   \n",
       "...                  ...              ...               ...               ...   \n",
       "37181    New South Wales       -34.924979        150.647032    Litoria Fallax   \n",
       "37182    New South Wales       -34.028797        151.225626    Litoria Fallax   \n",
       "37183         Queensland       -26.754987        152.839291    Litoria Fallax   \n",
       "37184    New South Wales       -34.791600        150.779300    Litoria Fallax   \n",
       "37185         Queensland       -27.497691        153.018211    Litoria Fallax   \n",
       "\n",
       "       occurrenceStatus    key  ...    pet_mean    ppt_mean   soil_mean  \\\n",
       "0                     0      0  ...  122.515002   78.956667   86.060001   \n",
       "1                     0      1  ...   94.620002   70.815000   61.070002   \n",
       "2                     0      2  ...  116.523334   88.481667   93.835002   \n",
       "3                     0      3  ...  105.906668   51.491667   38.143334   \n",
       "4                     0      4  ...  140.043336   52.176667   58.045001   \n",
       "...                 ...    ...  ...         ...         ...         ...   \n",
       "37181                 1  37397  ...  113.420002   88.605000  128.325001   \n",
       "37182                 1  37398  ...  117.751669   89.018333   81.860001   \n",
       "37183                 1  37399  ...  117.921669  113.293333  141.200001   \n",
       "37184                 1  37400  ...  115.260002   93.385000  117.718335   \n",
       "37185                 1  37401  ...  130.216670   87.456667   73.656668   \n",
       "\n",
       "        srad_mean  swe_mean  tmax_mean  tmin_mean  vap_mean  vpd_mean  \\\n",
       "0      202.539550       0.0  24.752166  13.260166  1.469033  0.768167   \n",
       "1      197.531135       0.0  17.464500   6.493000  0.971417  0.505833   \n",
       "2      194.666467       0.0  23.087500  12.855000  1.373983  0.705000   \n",
       "3      197.398818       0.0  21.126666   8.092833  1.056167  0.707500   \n",
       "4      232.393621       0.0  24.345166  13.365333  1.352933  1.016000   \n",
       "...           ...       ...        ...        ...       ...       ...   \n",
       "37181  194.388579       0.0  22.368500  13.190500  1.369700  0.659000   \n",
       "37182  195.746791       0.0  23.062499  13.867833  1.440283  0.688333   \n",
       "37183  210.919648       0.0  24.605499  13.768000  1.564200  0.750500   \n",
       "37184  194.086769       0.0  22.557833  13.278000  1.377050  0.667167   \n",
       "37185  207.235200       0.0  26.560499  15.482166  1.681233  0.920333   \n",
       "\n",
       "        ws_mean  \n",
       "0      3.858167  \n",
       "1      3.512667  \n",
       "2      4.115000  \n",
       "3      2.945333  \n",
       "4      4.695167  \n",
       "...         ...  \n",
       "37181  4.104167  \n",
       "37182  4.484833  \n",
       "37183  3.474000  \n",
       "37184  4.263833  \n",
       "37185  3.936500  \n",
       "\n",
       "[37186 rows x 23 columns]"
      ]
     },
     "execution_count": 3,
     "metadata": {},
     "output_type": "execute_result"
    }
   ],
   "source": [
    "model_data = pd.read_csv('australia_train_data.csv')\n",
    "model_data"
   ]
  },
  {
   "cell_type": "code",
   "execution_count": 4,
   "metadata": {},
   "outputs": [
    {
     "data": {
      "text/plain": [
       "Index(['gbifID', 'eventDate', 'country', 'continent', 'stateProvince',\n",
       "       'decimalLatitude', 'decimalLongitude', 'species', 'occurrenceStatus',\n",
       "       'key', 'aet_mean', 'def_mean', 'pdsi_mean', 'pet_mean', 'ppt_mean',\n",
       "       'soil_mean', 'srad_mean', 'swe_mean', 'tmax_mean', 'tmin_mean',\n",
       "       'vap_mean', 'vpd_mean', 'ws_mean'],\n",
       "      dtype='object')"
      ]
     },
     "execution_count": 4,
     "metadata": {},
     "output_type": "execute_result"
    }
   ],
   "source": [
    "model_data.columns"
   ]
  },
  {
   "cell_type": "code",
   "execution_count": 18,
   "metadata": {},
   "outputs": [],
   "source": [
    "features = ['aet_mean', 'def_mean', 'pdsi_mean', 'pet_mean', 'ppt_mean',\n",
    "       'soil_mean', 'srad_mean', 'swe_mean', 'tmax_mean', 'tmin_mean',\n",
    "       'vap_mean', 'vpd_mean', 'ws_mean']\n",
    "grouped = model_data.groupby(features, as_index=False)"
   ]
  },
  {
   "cell_type": "code",
   "execution_count": 66,
   "metadata": {},
   "outputs": [
    {
     "data": {
      "text/html": [
       "<div>\n",
       "<style scoped>\n",
       "    .dataframe tbody tr th:only-of-type {\n",
       "        vertical-align: middle;\n",
       "    }\n",
       "\n",
       "    .dataframe tbody tr th {\n",
       "        vertical-align: top;\n",
       "    }\n",
       "\n",
       "    .dataframe thead th {\n",
       "        text-align: right;\n",
       "    }\n",
       "</style>\n",
       "<table border=\"1\" class=\"dataframe\">\n",
       "  <thead>\n",
       "    <tr style=\"text-align: right;\">\n",
       "      <th></th>\n",
       "      <th>aet_mean</th>\n",
       "      <th>def_mean</th>\n",
       "      <th>pdsi_mean</th>\n",
       "      <th>pet_mean</th>\n",
       "      <th>ppt_mean</th>\n",
       "      <th>soil_mean</th>\n",
       "      <th>srad_mean</th>\n",
       "      <th>swe_mean</th>\n",
       "      <th>tmax_mean</th>\n",
       "      <th>tmin_mean</th>\n",
       "      <th>...</th>\n",
       "      <th>gbifID</th>\n",
       "      <th>eventDate</th>\n",
       "      <th>country</th>\n",
       "      <th>continent</th>\n",
       "      <th>stateProvince</th>\n",
       "      <th>decimalLatitude</th>\n",
       "      <th>decimalLongitude</th>\n",
       "      <th>species</th>\n",
       "      <th>occurrenceStatus</th>\n",
       "      <th>key</th>\n",
       "    </tr>\n",
       "  </thead>\n",
       "  <tbody>\n",
       "    <tr>\n",
       "      <th>0</th>\n",
       "      <td>16.175000</td>\n",
       "      <td>178.015002</td>\n",
       "      <td>-0.485667</td>\n",
       "      <td>194.190003</td>\n",
       "      <td>17.051667</td>\n",
       "      <td>6.758333</td>\n",
       "      <td>265.090026</td>\n",
       "      <td>0.0</td>\n",
       "      <td>32.664833</td>\n",
       "      <td>19.065500</td>\n",
       "      <td>...</td>\n",
       "      <td>2</td>\n",
       "      <td>2</td>\n",
       "      <td>2</td>\n",
       "      <td>2</td>\n",
       "      <td>2</td>\n",
       "      <td>2</td>\n",
       "      <td>2</td>\n",
       "      <td>2</td>\n",
       "      <td>2</td>\n",
       "      <td>2</td>\n",
       "    </tr>\n",
       "    <tr>\n",
       "      <th>1</th>\n",
       "      <td>16.680000</td>\n",
       "      <td>125.233336</td>\n",
       "      <td>-1.632167</td>\n",
       "      <td>141.913336</td>\n",
       "      <td>17.558333</td>\n",
       "      <td>0.200000</td>\n",
       "      <td>215.141399</td>\n",
       "      <td>0.0</td>\n",
       "      <td>25.278499</td>\n",
       "      <td>10.561833</td>\n",
       "      <td>...</td>\n",
       "      <td>1</td>\n",
       "      <td>1</td>\n",
       "      <td>1</td>\n",
       "      <td>1</td>\n",
       "      <td>1</td>\n",
       "      <td>1</td>\n",
       "      <td>1</td>\n",
       "      <td>1</td>\n",
       "      <td>1</td>\n",
       "      <td>1</td>\n",
       "    </tr>\n",
       "    <tr>\n",
       "      <th>2</th>\n",
       "      <td>17.975000</td>\n",
       "      <td>115.671668</td>\n",
       "      <td>-1.563833</td>\n",
       "      <td>133.646669</td>\n",
       "      <td>18.918333</td>\n",
       "      <td>0.100000</td>\n",
       "      <td>211.021525</td>\n",
       "      <td>0.0</td>\n",
       "      <td>24.277666</td>\n",
       "      <td>10.319166</td>\n",
       "      <td>...</td>\n",
       "      <td>6</td>\n",
       "      <td>6</td>\n",
       "      <td>6</td>\n",
       "      <td>6</td>\n",
       "      <td>6</td>\n",
       "      <td>6</td>\n",
       "      <td>6</td>\n",
       "      <td>6</td>\n",
       "      <td>6</td>\n",
       "      <td>6</td>\n",
       "    </tr>\n",
       "    <tr>\n",
       "      <th>3</th>\n",
       "      <td>18.406667</td>\n",
       "      <td>117.311668</td>\n",
       "      <td>-1.604833</td>\n",
       "      <td>135.718335</td>\n",
       "      <td>19.380000</td>\n",
       "      <td>0.100000</td>\n",
       "      <td>212.936530</td>\n",
       "      <td>0.0</td>\n",
       "      <td>24.661999</td>\n",
       "      <td>10.627500</td>\n",
       "      <td>...</td>\n",
       "      <td>1</td>\n",
       "      <td>1</td>\n",
       "      <td>1</td>\n",
       "      <td>1</td>\n",
       "      <td>1</td>\n",
       "      <td>1</td>\n",
       "      <td>1</td>\n",
       "      <td>1</td>\n",
       "      <td>1</td>\n",
       "      <td>1</td>\n",
       "    </tr>\n",
       "    <tr>\n",
       "      <th>4</th>\n",
       "      <td>18.610000</td>\n",
       "      <td>115.908334</td>\n",
       "      <td>-1.604167</td>\n",
       "      <td>134.518336</td>\n",
       "      <td>19.583333</td>\n",
       "      <td>0.100000</td>\n",
       "      <td>211.899840</td>\n",
       "      <td>0.0</td>\n",
       "      <td>24.364999</td>\n",
       "      <td>10.503000</td>\n",
       "      <td>...</td>\n",
       "      <td>10</td>\n",
       "      <td>10</td>\n",
       "      <td>10</td>\n",
       "      <td>10</td>\n",
       "      <td>10</td>\n",
       "      <td>10</td>\n",
       "      <td>10</td>\n",
       "      <td>10</td>\n",
       "      <td>10</td>\n",
       "      <td>10</td>\n",
       "    </tr>\n",
       "    <tr>\n",
       "      <th>...</th>\n",
       "      <td>...</td>\n",
       "      <td>...</td>\n",
       "      <td>...</td>\n",
       "      <td>...</td>\n",
       "      <td>...</td>\n",
       "      <td>...</td>\n",
       "      <td>...</td>\n",
       "      <td>...</td>\n",
       "      <td>...</td>\n",
       "      <td>...</td>\n",
       "      <td>...</td>\n",
       "      <td>...</td>\n",
       "      <td>...</td>\n",
       "      <td>...</td>\n",
       "      <td>...</td>\n",
       "      <td>...</td>\n",
       "      <td>...</td>\n",
       "      <td>...</td>\n",
       "      <td>...</td>\n",
       "      <td>...</td>\n",
       "      <td>...</td>\n",
       "    </tr>\n",
       "    <tr>\n",
       "      <th>3221</th>\n",
       "      <td>118.265003</td>\n",
       "      <td>16.281667</td>\n",
       "      <td>0.447333</td>\n",
       "      <td>134.546669</td>\n",
       "      <td>284.136667</td>\n",
       "      <td>431.721668</td>\n",
       "      <td>228.130243</td>\n",
       "      <td>0.0</td>\n",
       "      <td>29.003999</td>\n",
       "      <td>20.331333</td>\n",
       "      <td>...</td>\n",
       "      <td>1</td>\n",
       "      <td>1</td>\n",
       "      <td>1</td>\n",
       "      <td>1</td>\n",
       "      <td>1</td>\n",
       "      <td>1</td>\n",
       "      <td>1</td>\n",
       "      <td>1</td>\n",
       "      <td>1</td>\n",
       "      <td>1</td>\n",
       "    </tr>\n",
       "    <tr>\n",
       "      <th>3222</th>\n",
       "      <td>119.310002</td>\n",
       "      <td>19.466667</td>\n",
       "      <td>-0.006333</td>\n",
       "      <td>138.776668</td>\n",
       "      <td>251.735000</td>\n",
       "      <td>359.958334</td>\n",
       "      <td>229.131898</td>\n",
       "      <td>0.0</td>\n",
       "      <td>28.454333</td>\n",
       "      <td>20.316333</td>\n",
       "      <td>...</td>\n",
       "      <td>1</td>\n",
       "      <td>1</td>\n",
       "      <td>1</td>\n",
       "      <td>1</td>\n",
       "      <td>1</td>\n",
       "      <td>1</td>\n",
       "      <td>1</td>\n",
       "      <td>1</td>\n",
       "      <td>1</td>\n",
       "      <td>1</td>\n",
       "    </tr>\n",
       "    <tr>\n",
       "      <th>3223</th>\n",
       "      <td>120.471668</td>\n",
       "      <td>20.453334</td>\n",
       "      <td>-0.185500</td>\n",
       "      <td>140.925003</td>\n",
       "      <td>235.590000</td>\n",
       "      <td>356.716673</td>\n",
       "      <td>229.433674</td>\n",
       "      <td>0.0</td>\n",
       "      <td>28.752499</td>\n",
       "      <td>20.415666</td>\n",
       "      <td>...</td>\n",
       "      <td>9</td>\n",
       "      <td>9</td>\n",
       "      <td>9</td>\n",
       "      <td>9</td>\n",
       "      <td>9</td>\n",
       "      <td>9</td>\n",
       "      <td>9</td>\n",
       "      <td>9</td>\n",
       "      <td>9</td>\n",
       "      <td>9</td>\n",
       "    </tr>\n",
       "    <tr>\n",
       "      <th>3224</th>\n",
       "      <td>121.283336</td>\n",
       "      <td>18.166667</td>\n",
       "      <td>0.746167</td>\n",
       "      <td>139.450004</td>\n",
       "      <td>266.701667</td>\n",
       "      <td>364.508342</td>\n",
       "      <td>230.374702</td>\n",
       "      <td>0.0</td>\n",
       "      <td>28.692499</td>\n",
       "      <td>20.639833</td>\n",
       "      <td>...</td>\n",
       "      <td>7</td>\n",
       "      <td>7</td>\n",
       "      <td>7</td>\n",
       "      <td>7</td>\n",
       "      <td>7</td>\n",
       "      <td>7</td>\n",
       "      <td>7</td>\n",
       "      <td>7</td>\n",
       "      <td>7</td>\n",
       "      <td>7</td>\n",
       "    </tr>\n",
       "    <tr>\n",
       "      <th>3225</th>\n",
       "      <td>121.391669</td>\n",
       "      <td>15.816667</td>\n",
       "      <td>0.032000</td>\n",
       "      <td>137.208335</td>\n",
       "      <td>265.601667</td>\n",
       "      <td>376.068335</td>\n",
       "      <td>227.729409</td>\n",
       "      <td>0.0</td>\n",
       "      <td>28.594166</td>\n",
       "      <td>20.266166</td>\n",
       "      <td>...</td>\n",
       "      <td>1</td>\n",
       "      <td>1</td>\n",
       "      <td>1</td>\n",
       "      <td>1</td>\n",
       "      <td>1</td>\n",
       "      <td>1</td>\n",
       "      <td>1</td>\n",
       "      <td>1</td>\n",
       "      <td>1</td>\n",
       "      <td>1</td>\n",
       "    </tr>\n",
       "  </tbody>\n",
       "</table>\n",
       "<p>3226 rows × 23 columns</p>\n",
       "</div>"
      ],
      "text/plain": [
       "        aet_mean    def_mean  pdsi_mean    pet_mean    ppt_mean   soil_mean  \\\n",
       "0      16.175000  178.015002  -0.485667  194.190003   17.051667    6.758333   \n",
       "1      16.680000  125.233336  -1.632167  141.913336   17.558333    0.200000   \n",
       "2      17.975000  115.671668  -1.563833  133.646669   18.918333    0.100000   \n",
       "3      18.406667  117.311668  -1.604833  135.718335   19.380000    0.100000   \n",
       "4      18.610000  115.908334  -1.604167  134.518336   19.583333    0.100000   \n",
       "...          ...         ...        ...         ...         ...         ...   \n",
       "3221  118.265003   16.281667   0.447333  134.546669  284.136667  431.721668   \n",
       "3222  119.310002   19.466667  -0.006333  138.776668  251.735000  359.958334   \n",
       "3223  120.471668   20.453334  -0.185500  140.925003  235.590000  356.716673   \n",
       "3224  121.283336   18.166667   0.746167  139.450004  266.701667  364.508342   \n",
       "3225  121.391669   15.816667   0.032000  137.208335  265.601667  376.068335   \n",
       "\n",
       "       srad_mean  swe_mean  tmax_mean  tmin_mean  ...  gbifID  eventDate  \\\n",
       "0     265.090026       0.0  32.664833  19.065500  ...       2          2   \n",
       "1     215.141399       0.0  25.278499  10.561833  ...       1          1   \n",
       "2     211.021525       0.0  24.277666  10.319166  ...       6          6   \n",
       "3     212.936530       0.0  24.661999  10.627500  ...       1          1   \n",
       "4     211.899840       0.0  24.364999  10.503000  ...      10         10   \n",
       "...          ...       ...        ...        ...  ...     ...        ...   \n",
       "3221  228.130243       0.0  29.003999  20.331333  ...       1          1   \n",
       "3222  229.131898       0.0  28.454333  20.316333  ...       1          1   \n",
       "3223  229.433674       0.0  28.752499  20.415666  ...       9          9   \n",
       "3224  230.374702       0.0  28.692499  20.639833  ...       7          7   \n",
       "3225  227.729409       0.0  28.594166  20.266166  ...       1          1   \n",
       "\n",
       "      country  continent  stateProvince  decimalLatitude  decimalLongitude  \\\n",
       "0           2          2              2                2                 2   \n",
       "1           1          1              1                1                 1   \n",
       "2           6          6              6                6                 6   \n",
       "3           1          1              1                1                 1   \n",
       "4          10         10             10               10                10   \n",
       "...       ...        ...            ...              ...               ...   \n",
       "3221        1          1              1                1                 1   \n",
       "3222        1          1              1                1                 1   \n",
       "3223        9          9              9                9                 9   \n",
       "3224        7          7              7                7                 7   \n",
       "3225        1          1              1                1                 1   \n",
       "\n",
       "      species  occurrenceStatus  key  \n",
       "0           2                 2    2  \n",
       "1           1                 1    1  \n",
       "2           6                 6    6  \n",
       "3           1                 1    1  \n",
       "4          10                10   10  \n",
       "...       ...               ...  ...  \n",
       "3221        1                 1    1  \n",
       "3222        1                 1    1  \n",
       "3223        9                 9    9  \n",
       "3224        7                 7    7  \n",
       "3225        1                 1    1  \n",
       "\n",
       "[3226 rows x 23 columns]"
      ]
     },
     "execution_count": 66,
     "metadata": {},
     "output_type": "execute_result"
    }
   ],
   "source": [
    "check = grouped.count()\n",
    "check"
   ]
  },
  {
   "cell_type": "code",
   "execution_count": 68,
   "metadata": {},
   "outputs": [
    {
     "data": {
      "text/plain": [
       "array([1, 2, 3, 4, 5])"
      ]
     },
     "execution_count": 68,
     "metadata": {},
     "output_type": "execute_result"
    }
   ],
   "source": [
    "np.unique(np.array([1, 2, 3, 1, 2, 3, 1, 2, 3, 4, 5]))"
   ]
  },
  {
   "cell_type": "code",
   "execution_count": 67,
   "metadata": {},
   "outputs": [
    {
     "data": {
      "text/plain": [
       "array([   1,    2,    3,    4,    5,    6,    7,    8,    9,   10,   11,\n",
       "         12,   13,   14,   15,   16,   17,   18,   19,   20,   21,   22,\n",
       "         23,   24,   25,   26,   27,   28,   29,   30,   31,   32,   33,\n",
       "         34,   35,   36,   37,   38,   39,   40,   41,   42,   43,   44,\n",
       "         45,   46,   47,   48,   49,   50,   51,   52,   53,   54,   55,\n",
       "         56,   57,   58,   59,   60,   61,   62,   63,   64,   65,   66,\n",
       "         67,   68,   69,   70,   71,   72,   73,   74,   75,   76,   77,\n",
       "         78,   79,   81,   82,   83,   85,   86,   89,   90,   91,   92,\n",
       "         95,   98,  100,  103,  104,  107,  110,  116,  117,  122,  123,\n",
       "        126,  128,  129,  140,  141,  142,  151,  154,  156,  157,  165,\n",
       "        172,  179,  183,  198,  199,  203,  216,  232,  251,  255,  257,\n",
       "        262,  281,  314,  345,  370,  373,  545,  809, 1445, 2574],\n",
       "      dtype=int64)"
      ]
     },
     "execution_count": 67,
     "metadata": {},
     "output_type": "execute_result"
    }
   ],
   "source": [
    "np.unique(check['key'])"
   ]
  },
  {
   "cell_type": "code",
   "execution_count": 70,
   "metadata": {},
   "outputs": [
    {
     "data": {
      "text/html": [
       "<div>\n",
       "<style scoped>\n",
       "    .dataframe tbody tr th:only-of-type {\n",
       "        vertical-align: middle;\n",
       "    }\n",
       "\n",
       "    .dataframe tbody tr th {\n",
       "        vertical-align: top;\n",
       "    }\n",
       "\n",
       "    .dataframe thead th {\n",
       "        text-align: right;\n",
       "    }\n",
       "</style>\n",
       "<table border=\"1\" class=\"dataframe\">\n",
       "  <thead>\n",
       "    <tr style=\"text-align: right;\">\n",
       "      <th></th>\n",
       "      <th>aet_mean</th>\n",
       "      <th>def_mean</th>\n",
       "      <th>pdsi_mean</th>\n",
       "      <th>pet_mean</th>\n",
       "      <th>ppt_mean</th>\n",
       "      <th>soil_mean</th>\n",
       "      <th>srad_mean</th>\n",
       "      <th>swe_mean</th>\n",
       "      <th>tmax_mean</th>\n",
       "      <th>tmin_mean</th>\n",
       "      <th>vap_mean</th>\n",
       "      <th>vpd_mean</th>\n",
       "      <th>ws_mean</th>\n",
       "    </tr>\n",
       "  </thead>\n",
       "  <tbody>\n",
       "    <tr>\n",
       "      <th>2570</th>\n",
       "      <td>77.468335</td>\n",
       "      <td>35.011668</td>\n",
       "      <td>-2.759833</td>\n",
       "      <td>112.480001</td>\n",
       "      <td>90.358333</td>\n",
       "      <td>64.963335</td>\n",
       "      <td>196.751565</td>\n",
       "      <td>0.0</td>\n",
       "      <td>23.258999</td>\n",
       "      <td>12.680333</td>\n",
       "      <td>1.40025</td>\n",
       "      <td>0.6955</td>\n",
       "      <td>3.594333</td>\n",
       "    </tr>\n",
       "  </tbody>\n",
       "</table>\n",
       "</div>"
      ],
      "text/plain": [
       "       aet_mean   def_mean  pdsi_mean    pet_mean   ppt_mean  soil_mean  \\\n",
       "2570  77.468335  35.011668  -2.759833  112.480001  90.358333  64.963335   \n",
       "\n",
       "       srad_mean  swe_mean  tmax_mean  tmin_mean  vap_mean  vpd_mean   ws_mean  \n",
       "2570  196.751565       0.0  23.258999  12.680333   1.40025    0.6955  3.594333  "
      ]
     },
     "execution_count": 70,
     "metadata": {},
     "output_type": "execute_result"
    }
   ],
   "source": [
    "feat_check = check[check['key'] == 2574][features]\n",
    "feat_check"
   ]
  },
  {
   "cell_type": "code",
   "execution_count": 32,
   "metadata": {},
   "outputs": [
    {
     "data": {
      "text/plain": [
       "(2574, 23)"
      ]
     },
     "execution_count": 32,
     "metadata": {},
     "output_type": "execute_result"
    }
   ],
   "source": [
    "problematic = model_data.merge(feat_check, how='inner')\n",
    "problematic.shape"
   ]
  },
  {
   "cell_type": "code",
   "execution_count": 40,
   "metadata": {},
   "outputs": [],
   "source": [
    "cha = np.array(problematic[['decimalLatitude', 'decimalLongitude']])"
   ]
  },
  {
   "cell_type": "code",
   "execution_count": 64,
   "metadata": {},
   "outputs": [
    {
     "data": {
      "text/plain": [
       "65"
      ]
     },
     "execution_count": 64,
     "metadata": {},
     "output_type": "execute_result"
    }
   ],
   "source": [
    "cha = [tuple(i) for i in cha]\n",
    "len(set(cha))"
   ]
  },
  {
   "cell_type": "code",
   "execution_count": 51,
   "metadata": {},
   "outputs": [],
   "source": [
    "a = np.array([[1, 2, 3, 2], [1, 2, 42, 4], [1, 2, 42, 4]])"
   ]
  },
  {
   "cell_type": "code",
   "execution_count": 54,
   "metadata": {},
   "outputs": [
    {
     "data": {
      "text/plain": [
       "array([[ 1,  2,  2,  3],\n",
       "       [ 1,  2,  4, 42],\n",
       "       [ 1,  2,  4, 42]])"
      ]
     },
     "execution_count": 54,
     "metadata": {},
     "output_type": "execute_result"
    }
   ],
   "source": [
    "np.unique(a, axis=1)"
   ]
  },
  {
   "cell_type": "code",
   "execution_count": 75,
   "metadata": {},
   "outputs": [],
   "source": [
    "features = ['aet_mean', 'def_mean', 'pdsi_mean', 'pet_mean', 'ppt_mean',\n",
    "       'soil_mean', 'srad_mean', 'swe_mean', 'tmax_mean', 'tmin_mean',\n",
    "       'vap_mean', 'vpd_mean', 'ws_mean']\n",
    "data_cleaned = model_data.groupby(features, as_index=False).sum()"
   ]
  },
  {
   "cell_type": "code",
   "execution_count": 76,
   "metadata": {},
   "outputs": [
    {
     "data": {
      "text/plain": [
       "array([   0,    1,    2,    3,    4,    5,    6,    7,    8,    9,   10,\n",
       "         11,   12,   13,   14,   15,   16,   17,   18,   19,   20,   21,\n",
       "         22,   23,   24,   25,   26,   27,   28,   29,   30,   31,   32,\n",
       "         33,   34,   35,   36,   37,   38,   39,   40,   41,   42,   43,\n",
       "         44,   45,   46,   47,   48,   49,   50,   52,   53,   54,   55,\n",
       "         56,   58,   59,   60,   61,   63,   64,   65,   66,   69,   70,\n",
       "         73,   74,   78,   80,   83,   90,   94,   98,  101,  104,  106,\n",
       "        113,  117,  122,  150,  160,  161,  164,  171,  179,  193,  237,\n",
       "        246,  259,  261,  314,  367, 1223, 2080], dtype=int64)"
      ]
     },
     "execution_count": 76,
     "metadata": {},
     "output_type": "execute_result"
    }
   ],
   "source": [
    "np.unique(data_cleaned['occurrenceStatus'])"
   ]
  },
  {
   "cell_type": "code",
   "execution_count": 81,
   "metadata": {},
   "outputs": [],
   "source": [
    "X = data_cleaned[features]\n",
    "y = (data_cleaned['occurrenceStatus'] >= 1) * 1"
   ]
  },
  {
   "cell_type": "code",
   "execution_count": 83,
   "metadata": {},
   "outputs": [
    {
     "data": {
      "text/plain": [
       "(3226, 13)"
      ]
     },
     "execution_count": 83,
     "metadata": {},
     "output_type": "execute_result"
    }
   ],
   "source": [
    "X.shape"
   ]
  },
  {
   "cell_type": "code",
   "execution_count": 86,
   "metadata": {},
   "outputs": [
    {
     "data": {
      "image/png": "[encoded data removed]",
      "text/plain": [
       "<Figure size 1200x1200 with 2 Axes>"
      ]
     },
     "metadata": {},
     "output_type": "display_data"
    }
   ],
   "source": [
    "\n",
    "correlation_matrix = pd.concat([X, y], axis=1).corr()\n",
    "# Plotting the correlation matrix as a heatmap\n",
    "plt.figure(figsize=(12, 12))\n",
    "sns.heatmap(correlation_matrix, annot=True, cmap='coolwarm', fmt=\".2f\", linewidths=0.5)\n",
    "plt.title('Correlation Matrix')\n",
    "plt.show()\n"
   ]
  },
  {
   "cell_type": "code",
   "execution_count": 92,
   "metadata": {},
   "outputs": [
    {
     "name": "stdout",
     "output_type": "stream",
     "text": [
      "0.8615702479338843\n",
      "0.8138888888888889\n"
     ]
    },
    {
     "name": "stderr",
     "output_type": "stream",
     "text": [
      "c:\\UMD\\Sem 2\\IC24\\.venv\\Lib\\site-packages\\sklearn\\linear_model\\_logistic.py:469: ConvergenceWarning: lbfgs failed to converge (status=1):\n",
      "STOP: TOTAL NO. of ITERATIONS REACHED LIMIT.\n",
      "\n",
      "Increase the number of iterations (max_iter) or scale the data as shown in:\n",
      "    https://scikit-learn.org/stable/modules/preprocessing.html\n",
      "Please also refer to the documentation for alternative solver options:\n",
      "    https://scikit-learn.org/stable/modules/linear_model.html#logistic-regression\n",
      "  n_iter_i = _check_optimize_result(\n"
     ]
    }
   ],
   "source": [
    "X_train, X_test, y_train, y_test = train_test_split(X, y, test_size=0.3, random_state=420)\n",
    "cv_model = LogisticRegression()\n",
    "cv_model.fit(X_train, y_train)\n",
    "y_pred = cv_model.predict(X_test)\n",
    "print(accuracy_score(y_pred=y_pred, y_true=y_test))\n",
    "print(f1_score(y_pred=y_pred, y_true=y_test))"
   ]
  },
  {
   "cell_type": "code",
   "execution_count": 97,
   "metadata": {},
   "outputs": [
    {
     "name": "stdout",
     "output_type": "stream",
     "text": [
      "0.8823529411764706\n",
      "0.8396624472573839\n"
     ]
    }
   ],
   "source": [
    "X_train, X_test, y_train, y_test = train_test_split(X, y, test_size=0.2, random_state=420)\n",
    "cv_model = SVC()\n",
    "cv_model.fit(X_train, y_train)\n",
    "y_pred = cv_model.predict(X_test)\n",
    "print(accuracy_score(y_pred=y_pred, y_true=y_test))\n",
    "print(f1_score(y_pred=y_pred, y_true=y_test))"
   ]
  },
  {
   "cell_type": "code",
   "execution_count": 98,
   "metadata": {},
   "outputs": [
    {
     "name": "stdout",
     "output_type": "stream",
     "text": [
      "Train Accuracy: 100.00%\n",
      "Test Accuracy: 83.06%\n"
     ]
    },
    {
     "data": {
      "image/png": "[encoded data removed]",
      "text/plain": [
       "<Figure size 640x480 with 1 Axes>"
      ]
     },
     "metadata": {},
     "output_type": "display_data"
    }
   ],
   "source": [
    "from xgboost import XGBClassifier, plot_importance\n",
    "from sklearn.model_selection import train_test_split\n",
    "model = XGBClassifier()\n",
    "X_train, X_test, y_train, y_test = train_test_split(X, y, test_size=0.15, shuffle=False)\n",
    "model.fit(X_train, y_train)\n",
    "\n",
    "# make predictions for test data\n",
    "y_pred = model.predict(X_test)\n",
    "# predictions = [round(value) for value in y_pred]\n",
    "\n",
    "# evaluate predictions with train and test data\n",
    "accuracy = accuracy_score(y_train, model.predict(X_train))\n",
    "print(\"Train Accuracy: %.2f%%\" % (accuracy * 100.0))\n",
    "accuracy = accuracy_score(y_test, y_pred)\n",
    "print(\"Test Accuracy: %.2f%%\" % (accuracy * 100.0))\n",
    "\n",
    "# plot the feature importance\n",
    "plot_importance(model)\n",
    "plt.show()"
   ]
  },
  {
   "cell_type": "code",
   "execution_count": 103,
   "metadata": {},
   "outputs": [
    {
     "data": {
      "text/plain": [
       "(0.9282945736434108, 0.9051916509078612)"
      ]
     },
     "execution_count": 103,
     "metadata": {},
     "output_type": "execute_result"
    }
   ],
   "source": [
    "from sklearn.ensemble import RandomForestClassifier\n",
    "X_train, X_test, y_train, y_test = train_test_split(X, y, test_size=0.2, shuffle=True)\n",
    "clf = RandomForestClassifier()\n",
    "tree_model = cross_validate(clf, X_train, y_train, scoring=['accuracy', 'f1'], cv=10)\n",
    "# print(f\"Accuracy scores: {scores['test_accuracy']}\")\n",
    "# print(f\"F1 scores: {scores['test_f1']}\")\n",
    "tree_model['test_accuracy'].mean(), tree_model['test_f1'].mean()"
   ]
  },
  {
   "cell_type": "code",
   "execution_count": 102,
   "metadata": {},
   "outputs": [
    {
     "data": {
      "text/plain": [
       "(0.8988372093023257, 0.8631184740677416)"
      ]
     },
     "execution_count": 102,
     "metadata": {},
     "output_type": "execute_result"
    }
   ],
   "source": [
    "from sklearn.tree import DecisionTreeClassifier\n",
    "from sklearn.model_selection import cross_validate\n",
    "from sklearn.metrics import make_scorer\n",
    "tree_clf = DecisionTreeClassifier()\n",
    "X_train, X_test, y_train, y_test = train_test_split(X, y, test_size=0.2, shuffle=True)\n",
    "\n",
    "tree_model = cross_validate(tree_clf, X_train, y_train, scoring=['accuracy', 'f1'], cv=10)\n",
    "# print(f\"Accuracy scores: {scores['test_accuracy']}\")\n",
    "# print(f\"F1 scores: {scores['test_f1']}\")\n",
    "tree_model['test_accuracy'].mean(), tree_model['test_f1'].mean()"
   ]
  },
  {
   "cell_type": "code",
   "execution_count": 104,
   "metadata": {},
   "outputs": [
    {
     "data": {
      "text/plain": [
       "(0.894186046511628, 0.8587179218910352)"
      ]
     },
     "execution_count": 104,
     "metadata": {},
     "output_type": "execute_result"
    }
   ],
   "source": [
    "tree_clf = DecisionTreeClassifier(criterion='entropy')\n",
    "X_train, X_test, y_train, y_test = train_test_split(X, y, test_size=0.2, shuffle=True)\n",
    "\n",
    "tree_model = cross_validate(tree_clf, X_train, y_train, scoring=['accuracy', 'f1'], cv=10)\n",
    "# print(f\"Accuracy scores: {scores['test_accuracy']}\")\n",
    "# print(f\"F1 scores: {scores['test_f1']}\")\n",
    "tree_model['test_accuracy'].mean(), tree_model['test_f1'].mean()"
   ]
  },
  {
   "cell_type": "code",
   "execution_count": null,
   "metadata": {},
   "outputs": [],
   "source": []
  }
 ],
 "metadata": {
  "kernelspec": {
   "display_name": ".venv",
   "language": "python",
   "name": "python3"
  },
  "language_info": {
   "codemirror_mode": {
    "name": "ipython",
    "version": 3
   },
   "file_extension": ".py",
   "mimetype": "text/x-python",
   "name": "python",
   "nbconvert_exporter": "python",
   "pygments_lexer": "ipython3",
   "version": "3.11.5"
  }
 },
 "nbformat": 4,
 "nbformat_minor": 2
}
